{
  "nbformat": 4,
  "nbformat_minor": 0,
  "metadata": {
    "colab": {
      "name": "bosch_task.ipynb",
      "provenance": [],
      "collapsed_sections": [],
      "authorship_tag": "ABX9TyMnmV+uBsdouPYDVVaniTF/",
      "include_colab_link": true
    },
    "kernelspec": {
      "name": "python3",
      "display_name": "Python 3"
    },
    "accelerator": "GPU"
  },
  "cells": [
    {
      "cell_type": "markdown",
      "metadata": {
        "id": "view-in-github",
        "colab_type": "text"
      },
      "source": [
        "<a href=\"https://colab.research.google.com/github/ssk-2610/ML_projects/blob/main/bosch_task.ipynb\" target=\"_parent\"><img src=\"https://colab.research.google.com/assets/colab-badge.svg\" alt=\"Open In Colab\"/></a>"
      ]
    },
    {
      "cell_type": "code",
      "metadata": {
        "id": "2hishbXcOU0r"
      },
      "source": [
        "#libraries\r\n",
        "from keras.datasets import cifar10\r\n",
        "from keras.applications.vgg16 import VGG16\r\n",
        "import matplotlib.pyplot as plt\r\n",
        "import numpy as np\r\n",
        "from keras.utils import np_utils\r\n",
        "import cv2\r\n",
        "from tensorflow.keras import layers,Model\r\n",
        "from tensorflow.keras.models import Sequential\r\n",
        "from keras.layers import Flatten,Dense\r\n",
        "from keras.models import Model\r\n",
        "from keras.preprocessing.image import ImageDataGenerator\r\n",
        "from keras.applications.vgg16 import preprocess_input\r\n",
        "from keras.utils import to_categorical\r\n",
        "IMAGE_SIZE=[32,32]\r\n"
      ],
      "execution_count": 65,
      "outputs": []
    },
    {
      "cell_type": "code",
      "metadata": {
        "id": "_KOTxnLlOZRp"
      },
      "source": [
        "(X_train, y_train), (X_test, y_test) = cifar10.load_data()\r\n",
        "\r\n",
        "#separating data\r\n",
        "#train\r\n",
        "index1=np.where(y_train==0)\r\n",
        "index2=np.where(y_train==1)\r\n",
        "index3=np.where(y_train==9)\r\n",
        "index=np.append(index1[0],index2[0])\r\n",
        "index=np.append(index,index3[0])\r\n",
        "X_train=X_train[index]\r\n",
        "y_train=y_train[index]\r\n",
        "for i in range(len(y_train)):\r\n",
        "  if(y_train[i]==9):\r\n",
        "    y_train[i]=2\r\n",
        "\r\n",
        "#test\r\n",
        "index1=np.where(y_test==0)\r\n",
        "index2=np.where(y_test==1)\r\n",
        "index3=np.where(y_test==9)\r\n",
        "index=np.append(index1[0],index2[0])\r\n",
        "index=np.append(index,index3[0])\r\n",
        "X_test=X_test[index]\r\n",
        "y_test=y_test[index]\r\n",
        "\r\n",
        "for i in range(len(y_test)):\r\n",
        "  if(y_test[i]==9):\r\n",
        "    y_test[i]=2\r\n",
        "    \r\n",
        "X_train=X_train.astype('float32')\r\n",
        "X_test=X_test.astype('float32')\r\n",
        "y_train=to_categorical(y_train)\r\n",
        "y_test=to_categorical(y_test)\r\n",
        "\r\n",
        "\r\n"
      ],
      "execution_count": 83,
      "outputs": []
    },
    {
      "cell_type": "code",
      "metadata": {
        "id": "7DhjPA3GOdvw"
      },
      "source": [
        "modelv =VGG16(input_shape=(32,32,3),weights='imagenet',include_top=False)\r\n"
      ],
      "execution_count": 67,
      "outputs": []
    },
    {
      "cell_type": "code",
      "metadata": {
        "id": "gqjYEFO1OzLm"
      },
      "source": [
        "for layer in modelv.layers:\r\n",
        "\tlayer.trainable=False"
      ],
      "execution_count": 68,
      "outputs": []
    },
    {
      "cell_type": "code",
      "metadata": {
        "id": "X4wxB9r_O5Kc"
      },
      "source": [
        "x = Flatten()(modelv.output)\r\n",
        "x = Dense(3, activation = 'softmax')(x)\r\n",
        "model = Model(inputs = modelv.input, outputs = x)"
      ],
      "execution_count": 69,
      "outputs": []
    },
    {
      "cell_type": "code",
      "metadata": {
        "colab": {
          "base_uri": "https://localhost:8080/"
        },
        "id": "wIDGJaVSJcr0",
        "outputId": "1e7f04fe-0785-4bbb-b80c-9b10b64486ac"
      },
      "source": [
        "model.summary()"
      ],
      "execution_count": 85,
      "outputs": [
        {
          "output_type": "stream",
          "text": [
            "Model: \"model_1\"\n",
            "_________________________________________________________________\n",
            "Layer (type)                 Output Shape              Param #   \n",
            "=================================================================\n",
            "input_4 (InputLayer)         [(None, 32, 32, 3)]       0         \n",
            "_________________________________________________________________\n",
            "block1_conv1 (Conv2D)        (None, 32, 32, 64)        1792      \n",
            "_________________________________________________________________\n",
            "block1_conv2 (Conv2D)        (None, 32, 32, 64)        36928     \n",
            "_________________________________________________________________\n",
            "block1_pool (MaxPooling2D)   (None, 16, 16, 64)        0         \n",
            "_________________________________________________________________\n",
            "block2_conv1 (Conv2D)        (None, 16, 16, 128)       73856     \n",
            "_________________________________________________________________\n",
            "block2_conv2 (Conv2D)        (None, 16, 16, 128)       147584    \n",
            "_________________________________________________________________\n",
            "block2_pool (MaxPooling2D)   (None, 8, 8, 128)         0         \n",
            "_________________________________________________________________\n",
            "block3_conv1 (Conv2D)        (None, 8, 8, 256)         295168    \n",
            "_________________________________________________________________\n",
            "block3_conv2 (Conv2D)        (None, 8, 8, 256)         590080    \n",
            "_________________________________________________________________\n",
            "block3_conv3 (Conv2D)        (None, 8, 8, 256)         590080    \n",
            "_________________________________________________________________\n",
            "block3_pool (MaxPooling2D)   (None, 4, 4, 256)         0         \n",
            "_________________________________________________________________\n",
            "block4_conv1 (Conv2D)        (None, 4, 4, 512)         1180160   \n",
            "_________________________________________________________________\n",
            "block4_conv2 (Conv2D)        (None, 4, 4, 512)         2359808   \n",
            "_________________________________________________________________\n",
            "block4_conv3 (Conv2D)        (None, 4, 4, 512)         2359808   \n",
            "_________________________________________________________________\n",
            "block4_pool (MaxPooling2D)   (None, 2, 2, 512)         0         \n",
            "_________________________________________________________________\n",
            "block5_conv1 (Conv2D)        (None, 2, 2, 512)         2359808   \n",
            "_________________________________________________________________\n",
            "block5_conv2 (Conv2D)        (None, 2, 2, 512)         2359808   \n",
            "_________________________________________________________________\n",
            "block5_conv3 (Conv2D)        (None, 2, 2, 512)         2359808   \n",
            "_________________________________________________________________\n",
            "block5_pool (MaxPooling2D)   (None, 1, 1, 512)         0         \n",
            "_________________________________________________________________\n",
            "flatten_1 (Flatten)          (None, 512)               0         \n",
            "_________________________________________________________________\n",
            "dense_1 (Dense)              (None, 3)                 1539      \n",
            "=================================================================\n",
            "Total params: 14,716,227\n",
            "Trainable params: 1,539\n",
            "Non-trainable params: 14,714,688\n",
            "_________________________________________________________________\n"
          ],
          "name": "stdout"
        }
      ]
    },
    {
      "cell_type": "code",
      "metadata": {
        "id": "d87NzG7MPCwM"
      },
      "source": [
        "model.compile(loss='categorical_crossentropy', optimizer='adam', metrics=['accuracy'])"
      ],
      "execution_count": 70,
      "outputs": []
    },
    {
      "cell_type": "code",
      "metadata": {
        "id": "mdDOSb5F0I0M"
      },
      "source": [
        "training_datagen = ImageDataGenerator(\r\n",
        "                                    rescale=1./255,   # all pixel values will be between 0 an 1\r\n",
        "                                    shear_range=0.2, \r\n",
        "                                    zoom_range=0.2,\r\n",
        "                                    horizontal_flip=True,\r\n",
        "                                    preprocessing_function=preprocess_input)\r\n",
        "\r\n",
        "validation_datagen = ImageDataGenerator(rescale = 1./255, \r\n",
        "                                        preprocessing_function=preprocess_input)"
      ],
      "execution_count": 71,
      "outputs": []
    },
    {
      "cell_type": "code",
      "metadata": {
        "id": "wxWJFV9l0tyn"
      },
      "source": [
        "training_datagen.fit(X_train)\r\n",
        "validation_datagen.fit(X_test)"
      ],
      "execution_count": 74,
      "outputs": []
    },
    {
      "cell_type": "code",
      "metadata": {
        "colab": {
          "base_uri": "https://localhost:8080/"
        },
        "id": "u3X_YwzI7PtY",
        "outputId": "0b7657f4-6449-4116-f4af-73b7a21761f1"
      },
      "source": [
        "history=model.fit(training_datagen.flow(X_train, y_train, batch_size=200),\r\n",
        "          steps_per_epoch=len(X_train) / 100, epochs=20,validation_data=(X_test,y_test),validation_steps = 3000)"
      ],
      "execution_count": 80,
      "outputs": [
        {
          "output_type": "stream",
          "text": [
            "Epoch 1/20\n",
            "75/75 [==============================] - 21s 277ms/step - loss: 0.4999 - accuracy: 0.7935 - val_loss: 26.9372 - val_accuracy: 0.6540\n",
            "Epoch 2/20\n",
            "75/75 [==============================] - 20s 268ms/step - loss: 0.4979 - accuracy: 0.7969 - val_loss: 27.1862 - val_accuracy: 0.6510\n",
            "Epoch 3/20\n",
            "75/75 [==============================] - 20s 269ms/step - loss: 0.5023 - accuracy: 0.7918 - val_loss: 27.2379 - val_accuracy: 0.6507\n",
            "Epoch 4/20\n",
            "75/75 [==============================] - 20s 272ms/step - loss: 0.5012 - accuracy: 0.7953 - val_loss: 27.3509 - val_accuracy: 0.6520\n",
            "Epoch 5/20\n",
            "75/75 [==============================] - 20s 267ms/step - loss: 0.5013 - accuracy: 0.7945 - val_loss: 27.7368 - val_accuracy: 0.6497\n",
            "Epoch 6/20\n",
            "75/75 [==============================] - 20s 272ms/step - loss: 0.4998 - accuracy: 0.7929 - val_loss: 27.5303 - val_accuracy: 0.6507\n",
            "Epoch 7/20\n",
            "75/75 [==============================] - 20s 269ms/step - loss: 0.4954 - accuracy: 0.7977 - val_loss: 27.6185 - val_accuracy: 0.6533\n",
            "Epoch 8/20\n",
            "75/75 [==============================] - 20s 271ms/step - loss: 0.4955 - accuracy: 0.7956 - val_loss: 28.2574 - val_accuracy: 0.6510\n",
            "Epoch 9/20\n",
            "75/75 [==============================] - 20s 268ms/step - loss: 0.4988 - accuracy: 0.7935 - val_loss: 28.0318 - val_accuracy: 0.6513\n",
            "Epoch 10/20\n",
            "75/75 [==============================] - 20s 269ms/step - loss: 0.4955 - accuracy: 0.7997 - val_loss: 28.5866 - val_accuracy: 0.6463\n",
            "Epoch 11/20\n",
            "75/75 [==============================] - 20s 273ms/step - loss: 0.4943 - accuracy: 0.7961 - val_loss: 28.7742 - val_accuracy: 0.6483\n",
            "Epoch 12/20\n",
            "75/75 [==============================] - 20s 268ms/step - loss: 0.4982 - accuracy: 0.7932 - val_loss: 28.9445 - val_accuracy: 0.6477\n",
            "Epoch 13/20\n",
            "75/75 [==============================] - 20s 272ms/step - loss: 0.4963 - accuracy: 0.7947 - val_loss: 29.1210 - val_accuracy: 0.6473\n",
            "Epoch 14/20\n",
            "75/75 [==============================] - 20s 269ms/step - loss: 0.4935 - accuracy: 0.7959 - val_loss: 29.3813 - val_accuracy: 0.6483\n",
            "Epoch 15/20\n",
            "75/75 [==============================] - 20s 270ms/step - loss: 0.4923 - accuracy: 0.7995 - val_loss: 29.6878 - val_accuracy: 0.6463\n",
            "Epoch 16/20\n",
            "75/75 [==============================] - 20s 269ms/step - loss: 0.4930 - accuracy: 0.7961 - val_loss: 29.8612 - val_accuracy: 0.6477\n",
            "Epoch 17/20\n",
            "75/75 [==============================] - 20s 272ms/step - loss: 0.4982 - accuracy: 0.7937 - val_loss: 29.8499 - val_accuracy: 0.6460\n",
            "Epoch 18/20\n",
            "75/75 [==============================] - 20s 270ms/step - loss: 0.4932 - accuracy: 0.7956 - val_loss: 30.0540 - val_accuracy: 0.6433\n",
            "Epoch 19/20\n",
            "75/75 [==============================] - 20s 269ms/step - loss: 0.4931 - accuracy: 0.7979 - val_loss: 30.3539 - val_accuracy: 0.6380\n",
            "Epoch 20/20\n",
            "75/75 [==============================] - 20s 271ms/step - loss: 0.4948 - accuracy: 0.7979 - val_loss: 30.1642 - val_accuracy: 0.6457\n"
          ],
          "name": "stdout"
        }
      ]
    },
    {
      "cell_type": "code",
      "metadata": {
        "colab": {
          "base_uri": "https://localhost:8080/"
        },
        "id": "U1bHXi1G1JGK",
        "outputId": "38dc6a99-8df5-40c7-a46e-5cad8c72a722"
      },
      "source": [
        "print ('Training Accuracy = ' + str(history.history['accuracy'][-1])+\" %\")\r\n",
        "print ('Validation Accuracy = ' + str(history.history['val_accuracy'][-1])+\" %\")\r\n",
        "print('Validation loss = '+str(history.history['val_loss'][-1]))\r\n"
      ],
      "execution_count": 89,
      "outputs": [
        {
          "output_type": "stream",
          "text": [
            "Training Accuracy = 0.7979333400726318 %\n",
            "Validation Accuracy = 0.6456666588783264 %\n",
            "Validation loss = 30.164159774780273\n"
          ],
          "name": "stdout"
        }
      ]
    }
  ]
}