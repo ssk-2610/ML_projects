{
  "nbformat": 4,
  "nbformat_minor": 0,
  "metadata": {
    "colab": {
      "name": "Untitled2.ipynb",
      "provenance": []
    },
    "kernelspec": {
      "name": "python3",
      "display_name": "Python 3"
    },
    "accelerator": "GPU"
  },
  "cells": [
    {
      "cell_type": "code",
      "metadata": {
        "id": "z8rWSz8gcc_m"
      },
      "source": [
        "import pandas as pd\r\n",
        "import seaborn as sns\r\n",
        "import matplotlib.pyplot as plt\r\n",
        "from sklearn.ensemble import RandomForestClassifier\r\n",
        "from sklearn.svm import SVC\r\n",
        "from sklearn.linear_model import SGDClassifier\r\n",
        "from sklearn.metrics import confusion_matrix, classification_report\r\n",
        "from sklearn.preprocessing import StandardScaler, LabelEncoder\r\n",
        "from sklearn.model_selection import train_test_split, GridSearchCV, cross_val_score\r\n",
        "%matplotlib inline\r\n",
        "import os"
      ],
      "execution_count": 1,
      "outputs": []
    },
    {
      "cell_type": "code",
      "metadata": {
        "id": "_97Wsq9kZ6AL"
      },
      "source": [
        "os.chdir('drive/MyDrive/Colab Notebooks/wine-quality')"
      ],
      "execution_count": 2,
      "outputs": []
    },
    {
      "cell_type": "code",
      "metadata": {
        "id": "rtqpgLINccEf"
      },
      "source": [
        "wine=pd.read_csv('winequality-red.csv',delimiter=';')"
      ],
      "execution_count": 3,
      "outputs": []
    },
    {
      "cell_type": "code",
      "metadata": {
        "id": "AUzgOSwBQujF"
      },
      "source": [
        "bins = (2, 6.5, 8)\r\n",
        "group_names = ['bad', 'good']\r\n",
        "wine['quality'] = pd.cut(wine['quality'], bins = bins, labels = group_names)"
      ],
      "execution_count": 4,
      "outputs": []
    },
    {
      "cell_type": "code",
      "metadata": {
        "id": "m5JrWKLHHDK2"
      },
      "source": [
        "label_encoder = LabelEncoder()\r\n",
        "wine['quality'] = label_encoder.fit_transform(wine['quality'])"
      ],
      "execution_count": 5,
      "outputs": []
    },
    {
      "cell_type": "code",
      "metadata": {
        "id": "qSnPdsUz5rqB"
      },
      "source": [
        "X=wine.iloc[:,:-1].values\r\n",
        "y=wine.iloc[:,-1].values\r\n",
        "X_train, X_test, y_train, y_test = train_test_split(X, y, test_size = 0.2, random_state = 42)"
      ],
      "execution_count": 10,
      "outputs": []
    },
    {
      "cell_type": "code",
      "metadata": {
        "id": "zoYtikinCGfY"
      },
      "source": [
        "sc = StandardScaler()\r\n",
        "X_train = sc.fit_transform(X_train)\r\n",
        "X_test = sc.fit_transform(X_test)"
      ],
      "execution_count": 11,
      "outputs": []
    },
    {
      "cell_type": "code",
      "metadata": {
        "id": "RpcrdG2NCRHs"
      },
      "source": [
        "rfc = RandomForestClassifier(n_estimators=200)\r\n",
        "rfc.fit(X_train, y_train)\r\n",
        "pred_rfc = rfc.predict(X_test)"
      ],
      "execution_count": 12,
      "outputs": []
    },
    {
      "cell_type": "code",
      "metadata": {
        "colab": {
          "base_uri": "https://localhost:8080/"
        },
        "id": "47Uix-n_ChdO",
        "outputId": "85af784d-79c1-47d4-d841-8ebb82363599"
      },
      "source": [
        "rfc_eval = cross_val_score(estimator = rfc, X = X_train, y = y_train, cv = 10)\r\n",
        "print(f'Accuracy on training data is {rfc_eval.mean()*100}%')"
      ],
      "execution_count": 18,
      "outputs": [
        {
          "output_type": "stream",
          "text": [
            "Accuracy on training data is 91.0894438976378%\n"
          ],
          "name": "stdout"
        }
      ]
    },
    {
      "cell_type": "code",
      "metadata": {
        "colab": {
          "base_uri": "https://localhost:8080/"
        },
        "id": "fNaFAYyQBDD-",
        "outputId": "82505f8d-568a-4f0e-9945-38e167dba0d6"
      },
      "source": [
        "rfc_eval = cross_val_score(estimator = rfc, X = X_test, y = y_test, cv = 10)\r\n",
        "print(f'Accuracy on test data is {rfc_eval.mean()*100}%')"
      ],
      "execution_count": 19,
      "outputs": [
        {
          "output_type": "stream",
          "text": [
            "Accuracy on test data is 85.0%\n"
          ],
          "name": "stdout"
        }
      ]
    },
    {
      "cell_type": "code",
      "metadata": {
        "id": "d2Y6TqwiWi8T"
      },
      "source": [
        ""
      ],
      "execution_count": null,
      "outputs": []
    }
  ]
}